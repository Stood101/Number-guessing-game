{
 "cells": [
  {
   "cell_type": "code",
   "execution_count": null,
   "id": "3ea9c4c5-a4f7-42b3-b77c-882591e73fa4",
   "metadata": {},
   "outputs": [
    {
     "name": "stdin",
     "output_type": "stream",
     "text": [
      "Type a number:  3\n",
      "Make a guess:  5\n"
     ]
    },
    {
     "name": "stdout",
     "output_type": "stream",
     "text": [
      "You were above the number!\n"
     ]
    }
   ],
   "source": [
    "import random\n",
    "\n",
    "top_of_range = input(\"Type a number: \")\n",
    "\n",
    "if top_of_range.isdigit():\n",
    "    top_of_range = int(top_of_range)\n",
    "\n",
    "    if top_of_range <= 0:\n",
    "        print(\"Please type a number larger than 0 next time.\")\n",
    "        quit()\n",
    "\n",
    "else:\n",
    "    print(\"Please tyoe a number next time.\")\n",
    "    quit()\n",
    "\n",
    "random_number = random.randint(0, top_of_range)\n",
    "guesses = 0\n",
    "\n",
    "while True:\n",
    "    guesses += 1\n",
    "    user_guess = input(\"Make a guess: \")\n",
    "    if user_guess.isdigit():\n",
    "        user_guess = int(user_guess)\n",
    "    else:\n",
    "        print(\"Please tyoe a number next time.\")\n",
    "        continue\n",
    "\n",
    "    if user_guess == random_number:\n",
    "        print(\"You got it!\")\n",
    "        break\n",
    "    \n",
    "    elif user_guess > random_number:\n",
    "            print(\"You were above the number!\")\n",
    "    else:\n",
    "            print(\"You were below the number!\")\n",
    "\n",
    "print(\"You got it in\", guesses, \"guesses.\")"
   ]
  }
 ],
 "metadata": {
  "kernelspec": {
   "display_name": "Python 3 (ipykernel)",
   "language": "python",
   "name": "python3"
  },
  "language_info": {
   "codemirror_mode": {
    "name": "ipython",
    "version": 3
   },
   "file_extension": ".py",
   "mimetype": "text/x-python",
   "name": "python",
   "nbconvert_exporter": "python",
   "pygments_lexer": "ipython3",
   "version": "3.12.2"
  }
 },
 "nbformat": 4,
 "nbformat_minor": 5
}
